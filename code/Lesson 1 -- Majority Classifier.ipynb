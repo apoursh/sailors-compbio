{
 "cells": [
  {
   "cell_type": "code",
   "execution_count": 32,
   "metadata": {
    "collapsed": false
   },
   "outputs": [
    {
     "name": "stdout",
     "output_type": "stream",
     "text": [
      "The autoreload extension is already loaded. To reload it, use:\n",
      "  %reload_ext autoreload\n"
     ]
    }
   ],
   "source": [
    "# Magic! (don't worry about this)\n",
    "%load_ext autoreload\n",
    "%autoreload 2"
   ]
  },
  {
   "cell_type": "code",
   "execution_count": 3,
   "metadata": {
    "collapsed": false
   },
   "outputs": [],
   "source": [
    "# Let use use some useful things. See lib.py for the source code.\n",
    "from lib import *\n",
    "from classifiers import *\n",
    "import numpy as np"
   ]
  },
  {
   "cell_type": "code",
   "execution_count": 39,
   "metadata": {
    "collapsed": false
   },
   "outputs": [],
   "source": [
    "# load the data\n",
    "microarray_file_name = '../data/leukemia_ALL_AML_matrix.txt'\n",
    "labels_file_name = '../data/leukemia_ALL_AML_labels.txt'\n",
    "data_store = DataSet(microarray_file_name, labels_file_name) # Data\n",
    "\n",
    "train = data_store.get_train_set()"
   ]
  },
  {
   "cell_type": "code",
   "execution_count": 40,
   "metadata": {
    "collapsed": false
   },
   "outputs": [],
   "source": [
    "# Let's build a majority classifier\n",
    "class MajorityClassifier:\n",
    "    \n",
    "    def train(self, data):\n",
    "        self.counts = collections.Counter()\n",
    "        for d in data:\n",
    "            self.counts[d.label] += 1\n",
    "        # get the label that was seen most often\n",
    "        self.majority = self.counts.most_common()[0][0]\n",
    "            \n",
    "    def classify(self, data):\n",
    "        labelled = []\n",
    "        for d in data:\n",
    "            labelled.append((d, self.majority))\n",
    "        return labelled\n",
    "        \n",
    "    def print_stats(self):\n",
    "        total = sum(self.counts.values())\n",
    "        if total == 0:\n",
    "            print 'This classifier hasn\\'t been trained yet'\n",
    "        else:\n",
    "            for label in self.counts:\n",
    "                percent = (self.counts[label] * 100.0) / total\n",
    "                print 'I saw label \"%s\" %i times (%.2f%%)' % (label, self.counts[label], percent)\n",
    "            "
   ]
  },
  {
   "cell_type": "code",
   "execution_count": 41,
   "metadata": {
    "collapsed": false
   },
   "outputs": [
    {
     "name": "stdout",
     "output_type": "stream",
     "text": [
      "I saw label \"0\" 29 times (61.70%)\n",
      "I saw label \"1\" 18 times (38.30%)\n"
     ]
    }
   ],
   "source": [
    "mj = MajorityClassifier()\n",
    "mj.train(train)\n",
    "mj.print_stats()"
   ]
  },
  {
   "cell_type": "code",
   "execution_count": 21,
   "metadata": {
    "collapsed": false
   },
   "outputs": [],
   "source": [
    "labelled = mj.classify(data_store.get_test_set())"
   ]
  },
  {
   "cell_type": "code",
   "execution_count": 42,
   "metadata": {
    "collapsed": false
   },
   "outputs": [
    {
     "name": "stdout",
     "output_type": "stream",
     "text": [
      "Accuracy: 72.00%\n"
     ]
    }
   ],
   "source": [
    "evaluate_results(labelled)"
   ]
  },
  {
   "cell_type": "markdown",
   "metadata": {
    "collapsed": true
   },
   "source": [
    "How would we increase the accuracy of this method?\n",
    "\n",
    "How many points do we need to distribute in the interval [0-1] to have on average 1 point in any 0.1 interval? \n"
   ]
  },
  {
   "cell_type": "code",
   "execution_count": 31,
   "metadata": {
    "collapsed": false
   },
   "outputs": [
    {
     "name": "stdout",
     "output_type": "stream",
     "text": [
      "1.012\n"
     ]
    }
   ],
   "source": [
    "k = 10\n",
    "n = 500\n",
    "num_in_reg = np.zeros(n)\n",
    "for i in range(n):\n",
    "    num_in_reg[i] = (np.random.uniform(0,1,k) < 0.1).sum()\n",
    "print np.mean(num_in_reg)"
   ]
  },
  {
   "cell_type": "markdown",
   "metadata": {},
   "source": [
    "What about in the interval $[0-1]^2$ looking square of $0.1^2$?\n",
    "\n",
    "What about in the interval $[0-1]^{10}$ looking square of $0.1^{10}$?\n",
    "\n",
    "What does this mean for local methods? "
   ]
  },
  {
   "cell_type": "code",
   "execution_count": 72,
   "metadata": {
    "collapsed": false
   },
   "outputs": [
    {
     "name": "stdout",
     "output_type": "stream",
     "text": [
      "0.94\n"
     ]
    }
   ],
   "source": [
    "k = 1000\n",
    "n = 100\n",
    "d = 3\n",
    "num_in_reg = np.zeros(n)\n",
    "for i in range(n):\n",
    "    for j in range(k):\n",
    "        if (np.random.uniform(0,1,d) < .1).all():\n",
    "            num_in_reg[i] += 1\n",
    "print np.mean(num_in_reg)"
   ]
  },
  {
   "cell_type": "code",
   "execution_count": 51,
   "metadata": {
    "collapsed": false
   },
   "outputs": [
    {
     "data": {
      "text/plain": [
       "array([ 0.21834475,  0.50865988])"
      ]
     },
     "execution_count": 51,
     "metadata": {},
     "output_type": "execute_result"
    }
   ],
   "source": [
    "num_in_reg\n",
    "np.random.uniform(0,1,d)"
   ]
  }
 ],
 "metadata": {
  "kernelspec": {
   "display_name": "Python 2",
   "language": "python",
   "name": "python2"
  },
  "language_info": {
   "codemirror_mode": {
    "name": "ipython",
    "version": 2
   },
   "file_extension": ".py",
   "mimetype": "text/x-python",
   "name": "python",
   "nbconvert_exporter": "python",
   "pygments_lexer": "ipython2",
   "version": "2.7.9"
  }
 },
 "nbformat": 4,
 "nbformat_minor": 0
}
