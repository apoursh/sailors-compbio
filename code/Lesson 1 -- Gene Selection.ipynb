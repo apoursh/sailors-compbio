{
 "cells": [
  {
   "cell_type": "code",
   "execution_count": 9,
   "metadata": {
    "collapsed": false
   },
   "outputs": [
    {
     "name": "stdout",
     "output_type": "stream",
     "text": [
      "The autoreload extension is already loaded. To reload it, use:\n",
      "  %reload_ext autoreload\n"
     ]
    }
   ],
   "source": [
    "# magic! (don't worry about this)\n",
    "%load_ext autoreload\n",
    "%autoreload 2"
   ]
  },
  {
   "cell_type": "code",
   "execution_count": 10,
   "metadata": {
    "collapsed": false
   },
   "outputs": [],
   "source": [
    "# let us import some useful things\n",
    "from lib import *\n",
    "from classifiers import *\n",
    "import math\n",
    "from scipy.stats import ttest_ind\n",
    "from scipy.special import stdtr\n",
    "import numpy as np"
   ]
  },
  {
   "cell_type": "code",
   "execution_count": 7,
   "metadata": {
    "collapsed": false
   },
   "outputs": [],
   "source": [
    "# load the data same as before\n",
    "microarray_file_name = '../data/leukemia_ALL_AML_matrix.txt'\n",
    "labels_file_name = '../data/leukemia_ALL_AML_labels.txt'\n",
    "data_store = DataSet(microarray_file_name, labels_file_name)"
   ]
  },
  {
   "cell_type": "code",
   "execution_count": 8,
   "metadata": {
    "collapsed": false
   },
   "outputs": [
    {
     "name": "stdout",
     "output_type": "stream",
     "text": [
      "Number of informative genes:  0\n",
      "Accuracy: 28.00%\n"
     ]
    }
   ],
   "source": [
    "# first let's combine our train and test sets to use as much data as possible\n",
    "full_data_set = data_store.get_train_set() + data_store.get_test_set()\n",
    "\n",
    "# separate samples based on label\n",
    "ALL_gene_profiles_list = [s.get_gene_profile() for s in full_data_set if s.get_label() == 1]\n",
    "AML_gene_profiles_list = [s.get_gene_profile() for s in full_data_set if s.get_label() == 0]\n",
    "\n",
    "\n",
    "# let's select our most useful genes based on the Welch's t-test!\n",
    "init_number_of_genes = len(full_data_set[0].get_gene_profile())\n",
    "selected_genes = []\n",
    "for gene_id in range(init_number_of_genes):\n",
    "    gene_values_ALL_samples = [profile[gene_id] for profile in ALL_gene_profiles_list]\n",
    "    gene_values_AML_samples = [profile[gene_id] for profile in AML_gene_profiles_list]\n",
    "    \n",
    "    # TODO: use the formulas we've seen to compute the t-test value and the degree of freedom for the ALL and AML vector\n",
    "    # hint: to compute the mean and variance of each list -- use the np functions mean() and var()!\n",
    "    \n",
    "    t_test_val = 0 # TODO: change this line!\n",
    "    degree_of_freedom = 0 # TODO: change this line!\n",
    "\n",
    "    # now we can use an existing funtion to find the p-value (don't worry about this!)\n",
    "    p_value = 2*stdtr(degree_of_freedom, -np.abs(t_test_val))\n",
    "    \n",
    "    if(p_value < 0.05):\n",
    "        selected_genes.append(gene_id)\n",
    "\n",
    "print 'Number of informative genes: ' , len(selected_genes)\n",
    "\n",
    "# now let's update our dataset to ignore the genes that are not informative\n",
    "filtered_samples = []\n",
    "for sample in full_data_set:\n",
    "    new_sample = Sample(sample.get_label(), [sample.get_gene_profile()[i] for i in range(init_number_of_genes) if i in selected_genes])\n",
    "    filtered_samples.append(new_sample)\n",
    "    \n",
    "train_size = int(len(filtered_samples) * 0.66) # 2/3 of the data\n",
    "train_set = filtered_samples[:train_size]\n",
    "test_set = filtered_samples[train_size:]\n",
    "    "
   ]
  },
  {
   "cell_type": "code",
   "execution_count": null,
   "metadata": {
    "collapsed": true
   },
   "outputs": [],
   "source": []
  }
 ],
 "metadata": {
  "kernelspec": {
   "display_name": "Python 2",
   "language": "python",
   "name": "python2"
  },
  "language_info": {
   "codemirror_mode": {
    "name": "ipython",
    "version": 2
   },
   "file_extension": ".py",
   "mimetype": "text/x-python",
   "name": "python",
   "nbconvert_exporter": "python",
   "pygments_lexer": "ipython2",
   "version": "2.7.10"
  }
 },
 "nbformat": 4,
 "nbformat_minor": 0
}
