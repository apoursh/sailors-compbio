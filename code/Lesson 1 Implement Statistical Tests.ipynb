{
 "cells": [
  {
   "cell_type": "code",
   "execution_count": null,
   "metadata": {
    "collapsed": false
   },
   "outputs": [],
   "source": [
    "# magic! (don't worry about this)\n",
    "%matplotlib inline\n",
    "%load_ext autoreload\n",
    "%autoreload 2\n",
    "#%matplotlib inline"
   ]
  },
  {
   "cell_type": "code",
   "execution_count": null,
   "metadata": {
    "collapsed": true
   },
   "outputs": [],
   "source": [
    "# let us import some useful things for doing math in Python \n",
    "import pylab \n",
    "import scipy \n",
    "import scipy.stats\n",
    "import numpy as np \n",
    "from math import factorial \n",
    "from scipy.stats import binom\n",
    "#import useful things for plotting in Python \n",
    "from matplotlib import pyplot as plt \n",
    "# Let us use some things we implemented to conveniently work with the data. See lib.py for the source code.\n",
    "from lib import *"
   ]
  },
  {
   "cell_type": "markdown",
   "metadata": {},
   "source": [
    "# Binomial Distribution"
   ]
  },
  {
   "cell_type": "code",
   "execution_count": null,
   "metadata": {
    "collapsed": true
   },
   "outputs": [],
   "source": [
    "#Plot a binomial distribution for a standard card deck! \n",
    "\n",
    "#The binomial distribution is used to obtain the probability of observing x successes \n",
    "#in N trials, with the probability of success on a single trial denoted by p.\n",
    "\n",
    "\n",
    "#Fill in the probability of observing a black card \n",
    "#p=\n",
    "p=0.5\n",
    "#Number of trials -- what happens to the width of your distribution as you do more trials? \n",
    "#(try a very large value of N)\n",
    "#N=\n",
    "N=10"
   ]
  },
  {
   "cell_type": "code",
   "execution_count": null,
   "metadata": {
    "collapsed": false
   },
   "outputs": [],
   "source": [
    "#plot the binomial distribution for the dataset \n",
    "dist=binom(N,p)\n",
    "trials=np.arange(0,N+1) #we simulate N trials \n",
    "plt.plot(trials,dist.pmf(trials),label=r'$p=%.1f,\\ N=%i$' % (p,N))\n",
    "plt.legend()\n",
    "plt.show()"
   ]
  },
  {
   "cell_type": "markdown",
   "metadata": {},
   "source": [
    "The binomial formula tells you the probability of observing x \"successes\", given N trials and probability(success)=p  \n",
    "\n",
    "$$ P(x;p,n)=\\frac{n!}{x!(n−x)!}p^x(1-p)^{(n-x)} $$\n"
   ]
  },
  {
   "cell_type": "code",
   "execution_count": null,
   "metadata": {
    "collapsed": false
   },
   "outputs": [],
   "source": [
    "#TODO: Implement the binomial formula in python \n",
    "#hint: To write a factorial (!), use the \"factorial\" function, for example: \n",
    "a=factorial(10) # this means a=10!\n",
    "print(a)"
   ]
  },
  {
   "cell_type": "code",
   "execution_count": null,
   "metadata": {
    "collapsed": false
   },
   "outputs": [],
   "source": [
    "def binomial(x,p,N): \n",
    "    result=None #replace \"None\" with your code! \n",
    "    return result "
   ]
  },
  {
   "cell_type": "code",
   "execution_count": null,
   "metadata": {
    "collapsed": true
   },
   "outputs": [],
   "source": [
    "#TODO: \n",
    "#use the binomial function you wrote above to figure out the probability of observing 1 black cards in 10 trials.\n",
    "#how about 0 cards? \n",
    "\n",
    "#Check your work: Your code should give \n",
    "#probability(1 black card) = 0.0097\n",
    "#probability (0 black cards) =0.000976"
   ]
  },
  {
   "cell_type": "markdown",
   "metadata": {},
   "source": [
    "# One Sample T-test\n",
    "$$ t=\\frac{\\bar{x} - \\mu}{S}*\\sqrt(N) $$\n",
    "\n",
    "$$ df = N - 1 $$"
   ]
  },
  {
   "cell_type": "code",
   "execution_count": null,
   "metadata": {
    "collapsed": false
   },
   "outputs": [],
   "source": [
    "# two-sided pvalue\n",
    "#tstat is the t-statistic you have calculated\n",
    "#df is the degrees of freedom \n",
    "def pvalue_from_t(tstat,df):\n",
    "    pval = stats.t.sf(np.abs(tstat), df)*2  \n",
    "    return pval \n",
    "\n",
    "\n",
    "#TODO: \n",
    "# Next, implement the function for a one-sample T-test\n",
    "# your function should return the p-value for the t-Test \n",
    "\n",
    "# inputs to your function are:\n",
    "# samples = your list of sample values \n",
    "# mu = \"population\" mean \n",
    "\n",
    "#output of your function: the t-statistic and p-value for the one-sample T-test (2-tailed)\n",
    "#Hint: use the function 'pvalue_from_t' above to get a pvalue from a t-statistic \n",
    "#and the df(instead of using our lookup table)\n",
    "\n",
    "def t_test_one_sample(samples,mu): \n",
    "    tstat=?\n",
    "    df=?\n",
    "    pval=pvalue_from_t(tstat,df)\n",
    "    return tstat,pval "
   ]
  },
  {
   "cell_type": "code",
   "execution_count": null,
   "metadata": {
    "collapsed": false
   },
   "outputs": [],
   "source": [
    "#perform a one-sample T-test for our card example \n",
    "samples=[1,0,0,0,0,0,0,0,0,0]\n",
    "mu=0.5 \n",
    "tstat,pval=t_test_one_sample(samples,mu)\n",
    "\n",
    "#To check your work, make sure your code gives \n",
    "# tstat= -4 \n",
    "# pval= 0.00311"
   ]
  },
  {
   "cell_type": "markdown",
   "metadata": {},
   "source": [
    "# Two-Sample T-Test (Welch's T-Test) \n",
    "\n",
    "$$ t = \\frac{\\bar{X_1}-\\bar{X_2}}{\\sqrt{\\frac{(s_1)^2}{N_1}+\\frac{(S_2)^2}{N_2}}} $$\n",
    "\n",
    "$$ df = \\frac{(\\frac{(s_1)^2}{N_1}+\\frac{(s_2)^2}{N_2})^2}{\\frac{(s_1)^4}{(N_1)^2v_1}+\\frac{(s_2)^4}{(N_2)^2v_2}} $$"
   ]
  },
  {
   "cell_type": "code",
   "execution_count": null,
   "metadata": {
    "collapsed": true
   },
   "outputs": [],
   "source": [
    "#TODO: \n",
    "#implement the function for Welch's T-test (the 2-sample T-test)\n",
    "#hint: use the function pvalue_from_t above to get the pvalue from a t-statistic and the df. \n",
    "#inputs: \n",
    "#samples1 -- a list of gene expression values from your first group (i.e. healthy subjects)\n",
    "#samples2 -- a list of gene expression values from your second group (i.e. sick subjects)\n",
    "\n",
    "#first, write a separate function to find degrees of freedom for Welch's t-test:\n",
    "def df_welch(samples1,samples2): \n",
    "    df=?\n",
    "    return df; \n",
    "\n",
    "def t_test_welch(samples1,samples2): \n",
    "    tstat=?\n",
    "    df=?\n",
    "    pval=pval_from_t(tstat,df)\n",
    "    return tstat,pval "
   ]
  },
  {
   "cell_type": "markdown",
   "metadata": {},
   "source": [
    "# Using Welch's T-test to determine whether a gene is expressed differently between a cancer sample and a healthy sample (i.e. detect differential expression) "
   ]
  },
  {
   "cell_type": "code",
   "execution_count": null,
   "metadata": {
    "collapsed": true
   },
   "outputs": [],
   "source": [
    "#load our dataset \n",
    "microarray_file_name = '../data/prostate_normal_tumor_matrix.txt'\n",
    "labels_file_name = '../data/prostate_normal_tumor_labels.txt'\n",
    "data_store = DataSet(microarray_file_name, labels_file_name)"
   ]
  },
  {
   "cell_type": "code",
   "execution_count": null,
   "metadata": {
    "collapsed": false
   },
   "outputs": [],
   "source": [
    "#let's pick a gene of interest, for example gene 0. \n",
    "gene_id=2"
   ]
  },
  {
   "cell_type": "code",
   "execution_count": null,
   "metadata": {
    "collapsed": true
   },
   "outputs": [],
   "source": [
    "#separate your data into healthy & sick samples \n",
    "#label 0 = healthy \n",
    "#label 1 = sick \n",
    "\n",
    "labels=np.array(data_store.labels)\n",
    "samples=np.array(data_store.samples)\n",
    "healthy_index=np.where(labels==0)\n",
    "sick_index=np.where(labels==1)\n",
    "\n",
    "healthy_samples=samples[healthy_index]\n",
    "sick_samples=samples[sick_index]\n",
    "\n",
    "gene_healthy=[i.get_gene_profile()[gene_id] for i in healthy_samples]\n",
    "gene_sick=[i.get_gene_profile()[gene_id] for i in sick_samples]\n"
   ]
  },
  {
   "cell_type": "code",
   "execution_count": null,
   "metadata": {
    "collapsed": false
   },
   "outputs": [],
   "source": [
    "#plot a histogram of our data to make sure they are normally-distributed \n",
    "#(Look for a bell-shaped curve!)\n",
    "plt.hist([gene_healthy,gene_sick],label=[\"healthy\",\"sick\"])\n",
    "plt.legend(loc=2)\n",
    "plt.show()"
   ]
  },
  {
   "cell_type": "code",
   "execution_count": null,
   "metadata": {
    "collapsed": true
   },
   "outputs": [],
   "source": [
    "sample1=gene_healthy\n",
    "sample2=gene_sick "
   ]
  },
  {
   "cell_type": "code",
   "execution_count": null,
   "metadata": {
    "collapsed": true
   },
   "outputs": [],
   "source": [
    "#TODO: use your implementation of the Welch's T-test to check if the gene is differentially expressed\n",
    "# between the 2 samples \n",
    "\n",
    "tstat,p_val=? "
   ]
  },
  {
   "cell_type": "code",
   "execution_count": null,
   "metadata": {
    "collapsed": false
   },
   "outputs": [],
   "source": [
    "#check your work: do the values you got match the values here:\n",
    "scipy.stats.ttest_ind(sample1,sample2,False)"
   ]
  },
  {
   "cell_type": "code",
   "execution_count": null,
   "metadata": {
    "collapsed": true
   },
   "outputs": [],
   "source": [
    "#Try this with a few more genes. How might you use the T-test to select features for your machine learning algorithm?"
   ]
  },
  {
   "cell_type": "code",
   "execution_count": null,
   "metadata": {
    "collapsed": true
   },
   "outputs": [],
   "source": []
  }
 ],
 "metadata": {
  "kernelspec": {
   "display_name": "Python 2",
   "language": "python",
   "name": "python2"
  },
  "language_info": {
   "codemirror_mode": {
    "name": "ipython",
    "version": 2
   },
   "file_extension": ".py",
   "mimetype": "text/x-python",
   "name": "python",
   "nbconvert_exporter": "python",
   "pygments_lexer": "ipython2",
   "version": "2.7.9"
  }
 },
 "nbformat": 4,
 "nbformat_minor": 0
}
