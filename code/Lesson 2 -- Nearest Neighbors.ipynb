{
 "cells": [
  {
   "cell_type": "code",
   "execution_count": 9,
   "metadata": {
    "collapsed": false
   },
   "outputs": [
    {
     "name": "stdout",
     "output_type": "stream",
     "text": [
      "The autoreload extension is already loaded. To reload it, use:\n",
      "  %reload_ext autoreload\n"
     ]
    }
   ],
   "source": [
    "# magic! (don't worry about this)\n",
    "%load_ext autoreload\n",
    "%autoreload 2"
   ]
  },
  {
   "cell_type": "code",
   "execution_count": 22,
   "metadata": {
    "collapsed": false
   },
   "outputs": [],
   "source": [
    "# let us import some useful things\n",
    "from lib import *\n",
    "import numpy as np\n",
    "from classifiers import *\n",
    "import math"
   ]
  },
  {
   "cell_type": "code",
   "execution_count": 11,
   "metadata": {
    "collapsed": false
   },
   "outputs": [],
   "source": [
    "# load the data same as before\n",
    "microarray_file_name = '../data/leukemia_ALL_AML_matrix.txt'\n",
    "labels_file_name = '../data/leukemia_ALL_AML_labels.txt'\n",
    "data_store = DataSet(microarray_file_name, labels_file_name)"
   ]
  },
  {
   "cell_type": "code",
   "execution_count": 15,
   "metadata": {
    "collapsed": false
   },
   "outputs": [
    {
     "name": "stdout",
     "output_type": "stream",
     "text": [
      "Accuracy: 84.00%\n"
     ]
    }
   ],
   "source": [
    "# instantiate the kNN classifier\n",
    "k = 3\n",
    "knn = KNearestNeighbors()\n",
    "knn.train(data_store.get_train_set()) # provide training samples\n",
    "classified_samples = knn.classify(data_store.get_test_set(), k, euclidean_distance)\n",
    "\n",
    "# let's evaluate how well the classifier worked\n",
    "evaluate_results(classified_samples)"
   ]
  },
  {
   "cell_type": "code",
   "execution_count": null,
   "metadata": {
    "collapsed": false
   },
   "outputs": [],
   "source": [
    "# TODO: modify the code above to evaluate the classifier with different values of k (1 to 10)"
   ]
  },
  {
   "cell_type": "code",
   "execution_count": 18,
   "metadata": {
    "collapsed": false
   },
   "outputs": [],
   "source": [
    "# Next, we'll take a look at how we're commputing distance. \n",
    "#\n",
    "# Above, in the line:\n",
    "# classified_samples = knn.classify(data_store.get_test_set(), k, euclidean_distance)\n",
    "# euclidian_distance is actually a function. We're going to try to implement it ourselves!\n",
    "#\n",
    "# First, let's take a look at the functions math.sqrt(number) and pow(number, power)\n",
    "# Try finding the square root of some of your favorite numbers.\n"
   ]
  },
  {
   "cell_type": "code",
   "execution_count": 5,
   "metadata": {
    "collapsed": false
   },
   "outputs": [
    {
     "name": "stdout",
     "output_type": "stream",
     "text": [
      "0.0\n",
      "0.0\n",
      "0.0\n",
      "0.0\n"
     ]
    }
   ],
   "source": [
    "# Next, we'll take a look at how we accumulate numbers. If I have a list of numbers like [1, 2, 3]\n",
    "# and I want to know the sum of their square roots, I'm going to need to loop through them and gather the total.\n",
    "# Let's implement a function that does this called sum_sqrts that takes a list parameter.\n",
    "\n",
    "def sum_sqrts(my_list):\n",
    "    total = 0.0\n",
    "    # This is where your code goes!\n",
    "    # store the additional square roots in the variable total\n",
    "    # (start with a for loop!)\n",
    "\n",
    "    \n",
    "    return total\n",
    "\n",
    "\n",
    "print sum_sqrts([])  # should print \"0.0\"\n",
    "print sum_sqrts([1, 4, 9])  # should print \"6.0\"\n",
    "print sum_sqrts([1, 1, 1])  # should print \"3.0\"\n",
    "print sum_sqrts([9, 25, 3, 4])  # should print \"11.7320508076\""
   ]
  },
  {
   "cell_type": "code",
   "execution_count": 25,
   "metadata": {
    "collapsed": false
   },
   "outputs": [
    {
     "name": "stdout",
     "output_type": "stream",
     "text": [
      "1\n",
      "2\n",
      "24\n"
     ]
    }
   ],
   "source": [
    "# Okay! Now we're ready for a real, full blown eauclidean distance function.\n",
    "# this function will take two lists of equal length and return the euclidean distance between them.\n",
    "#\n",
    "# For each index i, you should compute the distance between \n",
    "\n",
    "def my_euclidean_distance(sample_profile1, sample_profile2):\n",
    "    distance = 0.0\n",
    "    # This is where your code goes!\n",
    "    # you should loop through the indexes of the lists\n",
    "    # and gather the distance\n",
    "\n",
    "    \n",
    "    \n",
    "    # don't forget to take the square root at the end!\n",
    "    \n",
    "    return distance\n",
    "\n",
    "print my_euclidean_distance([1], [2])  # should print \"1.0\"\n",
    "print my_euclidean_distance([1, 1], [2, 2])  # should print \"1.41421356237\"\n",
    "print my_euclidean_distance([0, 1, 2], [5, -7, 13])  # should print \"14.4913767462\""
   ]
  },
  {
   "cell_type": "code",
   "execution_count": 26,
   "metadata": {
    "collapsed": false
   },
   "outputs": [
    {
     "name": "stdout",
     "output_type": "stream",
     "text": [
      "Accuracy: 96.00%\n"
     ]
    }
   ],
   "source": [
    "# now let's test out your distance function in the real-live classifier!\n",
    "classified_samples = knn.classify(data_store.get_test_set(), k, my_euclidean_distance)\n",
    "\n",
    "# let's evaluate how well the classifier worked\n",
    "evaluate_results(classified_samples)  # the results here should be the same as the results from the top of the page"
   ]
  },
  {
   "cell_type": "code",
   "execution_count": null,
   "metadata": {
    "collapsed": true
   },
   "outputs": [],
   "source": [
    "# What if we use some other defintion of distance? Define the my_L1_distance function below to give you the\n",
    "# absolute value distance between two points \n",
    "\n",
    "def my_L1_distance(sample_profile1, sample_profile2):\n",
    "    distance = 0.0\n",
    "    # This is where your code goes!\n",
    "    \n",
    "    return distance\n",
    "\n",
    "print my_L1_distance([1], [2])  # should print \"1.0\"\n",
    "print my_L1_distance([1, 1], [2, 2])  # should print \"2\"\n",
    "print my_L1_distance([0, 1, 2], [5, -7, 13])  # should print \"24\""
   ]
  },
  {
   "cell_type": "code",
   "execution_count": 8,
   "metadata": {
    "collapsed": true
   },
   "outputs": [],
   "source": [
    "# now let's start writing the kNN classifier code in the classifiers_skeleton.py file\n",
    "\n",
    "# TODO: change the import statement at the top of the file from\n",
    "# \"from classifiers import *\" to \"from classifiers_skeleton import *\"\n",
    " \n",
    "# TODO: take a look at the evaluate_results function (this is implemented for you)\n",
    "# can you figure out what is the type of the input argument classified_samples?\n",
    "# what happens in the first line of this function? how about the third line?\n",
    "\n",
    "# what happens when you run the skeleton code? what is the accuracy of this partially-implemented classifier? why? \n",
    "\n",
    "# TODO: fill in each TODO section in the file!\n",
    "\n",
    "# congratulations, you have now implemented a kNN classifier! Test it out by rerunning the boxes\n",
    "# at the top of the file! This line will now use your KNearestNeighbors object:\n",
    "# knn = KNearestNeighbors()"
   ]
  }
 ],
 "metadata": {
  "kernelspec": {
   "display_name": "Python 2",
   "language": "python",
   "name": "python2"
  },
  "language_info": {
   "codemirror_mode": {
    "name": "ipython",
    "version": 2
   },
   "file_extension": ".py",
   "mimetype": "text/x-python",
   "name": "python",
   "nbconvert_exporter": "python",
   "pygments_lexer": "ipython2",
   "version": "2.7.10"
  }
 },
 "nbformat": 4,
 "nbformat_minor": 0
}
