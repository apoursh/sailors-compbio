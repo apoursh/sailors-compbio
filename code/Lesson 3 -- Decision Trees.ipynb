{
 "cells": [
  {
   "cell_type": "code",
   "execution_count": 32,
   "metadata": {
    "collapsed": false
   },
   "outputs": [],
   "source": [
    "# magic! (don't worry about this)\n",
    "%load_ext autoreload\n",
    "%autoreload 2\n",
    "#%matplotlib inline"
   ]
  },
  {
   "cell_type": "code",
   "execution_count": 33,
   "metadata": {
    "collapsed": false
   },
   "outputs": [],
   "source": [
    "# let us import some useful things\n",
    "from lib import *\n",
    "from classifiers import *\n",
    "from numpy import mean\n",
    "#from graphs import *\n",
    "from sklearn import tree\n",
    "import numpy as np\n",
    "%matplotlib inline\n",
    "from matplotlib import pyplot as plt\n"
   ]
  },
  {
   "cell_type": "markdown",
   "metadata": {},
   "source": [
    "Sally sends you a picture of a dress that she has just found. Excited, you text back \"Did you buy it?\" and she asks you to guess whether she bought the dress or not. You know Sally very well, What is your thought process on whether Sally bought the dress or not? \n",
    "\n",
    "Draw up this process.\n",
    "\n",
    "Lets run an example through this: "
   ]
  },
  {
   "cell_type": "markdown",
   "metadata": {},
   "source": [
    "## What is a tree? "
   ]
  },
  {
   "cell_type": "markdown",
   "metadata": {},
   "source": [
    "How to make a tree (hand-wavy algorithm):\n",
    "    1. Find the best feature to divide on (this is the hard part)\n",
    "    2. Divide on x_p and assign training samples to each leaf. \n",
    "    3. If the leaf is \"pure\" stop. Otherwise iterate over\n"
   ]
  },
  {
   "cell_type": "markdown",
   "metadata": {},
   "source": [
    "### How to choose this x_p\n",
    "\n",
    "#### What type of variables we have\n",
    "    1. Continuous \n",
    "    2. Ordinary\n",
    "    3. Nominal\n",
    "    \n",
    "\n",
    "\n"
   ]
  },
  {
   "cell_type": "markdown",
   "metadata": {},
   "source": [
    "### Entropy\n",
    "$S = - \\sum_i \\log(p_i) p_i$\n",
    "\n",
    "Maximized at $p_i = \\frac{1}{n_c}$"
   ]
  },
  {
   "cell_type": "code",
   "execution_count": 34,
   "metadata": {
    "collapsed": false,
    "scrolled": true
   },
   "outputs": [
    {
     "name": "stderr",
     "output_type": "stream",
     "text": [
      "/Users/armin/miniconda/lib/python2.7/site-packages/ipykernel/__main__.py:2: RuntimeWarning: divide by zero encountered in log\n",
      "  from ipykernel import kernelapp as app\n",
      "/Users/armin/miniconda/lib/python2.7/site-packages/ipykernel/__main__.py:2: RuntimeWarning: invalid value encountered in multiply\n",
      "  from ipykernel import kernelapp as app\n"
     ]
    },
    {
     "data": {
      "image/png": "[encoded data removed]",
      "text/plain": [
       "<matplotlib.figure.Figure at 0x10a23e990>"
      ]
     },
     "metadata": {},
     "output_type": "display_data"
    }
   ],
   "source": [
    "p = np.linspace(0,1,500)\n",
    "y = - np.log(p)*p\n",
    "plt.plot(p,y)\n",
    "plt.show()"
   ]
  },
  {
   "cell_type": "markdown",
   "metadata": {},
   "source": [
    "### Gini index\n",
    "\n",
    "![:(](https://nicfoley.files.wordpress.com/2013/07/genie.jpg)"
   ]
  },
  {
   "cell_type": "markdown",
   "metadata": {},
   "source": [
    "$I = \\sum_i p_i (1-p_i)$\n",
    "\n",
    "This is maximized at $p_i = \\frac{1}{n_c}$ where $n_c$ is the number of classes  "
   ]
  },
  {
   "cell_type": "code",
   "execution_count": 35,
   "metadata": {
    "collapsed": false,
    "scrolled": false
   },
   "outputs": [
    {
     "data": {
      "image/png": "[encoded data removed]",
      "text/plain": [
       "<matplotlib.figure.Figure at 0x10bde8490>"
      ]
     },
     "metadata": {},
     "output_type": "display_data"
    }
   ],
   "source": [
    "p = np.linspace(0,1,500)\n",
    "y = (1-p)*p\n",
    "plt.plot(p,y)\n",
    "plt.show()"
   ]
  },
  {
   "cell_type": "markdown",
   "metadata": {
    "collapsed": true
   },
   "source": [
    "The cost after splitting is the weighted cost of each node. \n",
    "\n",
    "The idea for choosing the branch to split on is to split on the attribute witht he biggest improvment in purity. This is a greedy way to build the tree (Why? Can we construct an example where this greedy method doesn't work?)\n",
    "\n",
    "\n",
    "Let's go back to how to deal with different types of variables. \n",
    "\n",
    "For continous variables, and ordinal variables: we choose a particular position (any ideas how to do this for continuous variables?) For nominal variables, we have n! combinations to choose from :( (this could be prohibitively large but there are tricks to deal with it)"
   ]
  },
  {
   "cell_type": "markdown",
   "metadata": {},
   "source": [
    "After the tree is constructed, it will need to be pruned to prevent overfitting. "
   ]
  },
  {
   "cell_type": "markdown",
   "metadata": {},
   "source": [
    "Why trees: \n",
    "    1. They are easy to understand (interpretable)\n",
    "    2. They have ways of dealing with missing data \n",
    "    3. They are fairly good at classifying (but it can get better)\n",
    "    4. Cost of prediction is low (this is not very important for us)\n",
    "    5. Can do variable selection to some extent \n",
    "    6. Natural to use for all kinds of features "
   ]
  },
  {
   "cell_type": "code",
   "execution_count": 36,
   "metadata": {
    "collapsed": true
   },
   "outputs": [],
   "source": [
    "# load the data same as before\n",
    "microarray_file_name = '../data/leukemia_ALL_AML_matrix.txt'\n",
    "labels_file_name = '../data/leukemia_ALL_AML_labels.txt'\n",
    "data_store = DataSet(microarray_file_name, labels_file_name)"
   ]
  },
  {
   "cell_type": "code",
   "execution_count": 37,
   "metadata": {
    "collapsed": true
   },
   "outputs": [],
   "source": [
    "# This train function is *almost* the same as the train method that \n",
    "# your knn classifier. The difference is that this is a function that\n",
    "# takes as one of the parameters the decision tree, so it will be called\n",
    "# like: train(decision_tree, train_samples)\n",
    "def train(decision_tree, train_samples):\n",
    "    feature_array = [sample.get_gene_profile() for sample in train_samples]\n",
    "    labels = [sample.get_label() for sample in train_samples]\n",
    "    decision_tree.fit(feature_array, labels)\n",
    "\n",
    "def classify(decision_tree, test_samples):\n",
    "    labelled_samples = []\n",
    "    feature_array = [sample.get_gene_profile() for sample in test_samples]\n",
    "    results = decision_tree.predict(feature_array)\n",
    "    labelled_samples = [(test_samples[i], results[i]) for i in range(len(test_samples))]\n",
    "    return labelled_samples\n"
   ]
  },
  {
   "cell_type": "code",
   "execution_count": 71,
   "metadata": {
    "collapsed": false
   },
   "outputs": [
    {
     "name": "stdout",
     "output_type": "stream",
     "text": [
      "Accuracy: 96.00%\n"
     ]
    }
   ],
   "source": [
    "# Here, you can set criterion = \"entropy\" or \"gini\", which will determine\n",
    "# what equation the decision tree will use to measure the quality of a split\n",
    "#\n",
    "# You can set max_features=None, \"sqrt\", or \"log2\", which will determine how many\n",
    "# features the decision tree will use. Setting it to None will use all the features,\n",
    "# sqrt will use sqrt(number of features) and log2 will use log2(number of features)\n",
    "#\n",
    "# Play around! What settings are best? Do they change for the different data sets?\n",
    "decision_tree = tree.DecisionTreeClassifier(criterion=\"entropy\", max_features=None)\n",
    "train(decision_tree, data_store.get_train_set())\n",
    "\n",
    "classified_samples = classify(decision_tree, data_store.get_test_set())\n",
    "# let's evaluate how well the classifier worked\n",
    "evaluate_results(classified_samples)\n",
    "#compare this final answer with your neighbor. did you get the same answer? "
   ]
  },
  {
   "cell_type": "code",
   "execution_count": null,
   "metadata": {
    "collapsed": false
   },
   "outputs": [],
   "source": [
    "#plot_errors(classified_samples)"
   ]
  },
  {
   "cell_type": "code",
   "execution_count": 269,
   "metadata": {
    "collapsed": false
   },
   "outputs": [],
   "source": [
    "def bootstrap(data):\n",
    "    N = len(data)\n",
    "    sample = np.random.choice(N, N)\n",
    "    return [data[i] for i in sample]\n",
    "\n",
    "def bagTrain(ntrees):\n",
    "    myTrees = []\n",
    "    for i in range(ntrees):\n",
    "        decision_tree = tree.DecisionTreeClassifier(criterion=\"entropy\", max_features=None)\n",
    "        train(decision_tree, bootstrap(data_store.get_train_set()))\n",
    "        myTrees.append(decision_tree)\n",
    "    return myTrees\n",
    "\n",
    "def bagClassify(myTrees, test_samples):\n",
    "    classification = []\n",
    "    for sample in test_samples:\n",
    "#         print sample.get_gene_profile()\n",
    "        judgment = []\n",
    "        for tree in myTrees:\n",
    "            judgment.append(classify(tree, [sample]))\n",
    "        judgment = [item[0][1] for item in judgment]\n",
    "        classification.append([sample, mean(judgment) > 0.5])\n",
    "    return classification\n",
    "    \n"
   ]
  },
  {
   "cell_type": "code",
   "execution_count": 287,
   "metadata": {
    "collapsed": false
   },
   "outputs": [
    {
     "name": "stdout",
     "output_type": "stream",
     "text": [
      "Accuracy: 92.00%\n"
     ]
    }
   ],
   "source": [
    "myTrees = bagTrain(1)\n",
    "classes = bagClassify(myTrees, data_store.get_test_set())\n",
    "evaluate_results(classes)"
   ]
  },
  {
   "cell_type": "markdown",
   "metadata": {},
   "source": [
    "Run the regular tree and the bagged tree multiple times. What do you notice? "
   ]
  }
 ],
 "metadata": {
  "kernelspec": {
   "display_name": "Python 2",
   "language": "python",
   "name": "python2"
  },
  "language_info": {
   "codemirror_mode": {
    "name": "ipython",
    "version": 2
   },
   "file_extension": ".py",
   "mimetype": "text/x-python",
   "name": "python",
   "nbconvert_exporter": "python",
   "pygments_lexer": "ipython2",
   "version": "2.7.10"
  }
 },
 "nbformat": 4,
 "nbformat_minor": 0
}
