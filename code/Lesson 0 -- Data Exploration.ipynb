{
 "cells": [
  {
   "cell_type": "markdown",
   "metadata": {},
   "source": [
    "# Types of data\n",
    "\n",
    "Come up with a few different features that determine whether sally will buy a particular dress:\n",
    "\n",
    "\n",
    "Qualitatively, is there a difference between the features you chose? What values can they take?\n",
    "\n",
    "Similarly, we could try to predict whether sally buys the dress or, the price that we think the dress is being sold at. What is the difference here? \n",
    "\n",
    "Is there an inbetween case? \n",
    "\n",
    "In each case, how can we measure if we did a good job with our prediction? "
   ]
  },
  {
   "cell_type": "code",
   "execution_count": 13,
   "metadata": {
    "collapsed": false
   },
   "outputs": [
    {
     "name": "stdout",
     "output_type": "stream",
     "text": [
      "The autoreload extension is already loaded. To reload it, use:\n",
      "  %reload_ext autoreload\n"
     ]
    }
   ],
   "source": [
    "# Magic! (don't worry about this)\n",
    "%load_ext autoreload\n",
    "%autoreload 2"
   ]
  },
  {
   "cell_type": "code",
   "execution_count": 14,
   "metadata": {
    "collapsed": true
   },
   "outputs": [],
   "source": [
    "# Let us use some things we implemented to conveniently work with the data. See lib.py for the source code.\n",
    "from lib import *"
   ]
  },
  {
   "cell_type": "code",
   "execution_count": 6,
   "metadata": {
    "collapsed": true
   },
   "outputs": [],
   "source": [
    "# First, look inside the 'data' folder!\n",
    "# Here, you'll find our data files, such as 'leukemia_ALL_AML_matrix.txt' and 'leukemia_ALL_AML_labels.txt'.\n",
    "# This is one of our datasets!\n",
    "# For each dataset, we have one file that contains the microarray data and another that contains the labels \n",
    "# for each dataset."
   ]
  },
  {
   "cell_type": "code",
   "execution_count": 26,
   "metadata": {
    "collapsed": false
   },
   "outputs": [],
   "source": [
    "# In lib.py we have defined a DataSet object that can be used to load the data. \n",
    "# This object stores the data so that we don't have to read the files\n",
    "# each time we want to access different parts of the data\n",
    "#\n",
    "# We have also defined the Sample object to represent each sample in our dataset.\n",
    "#\n",
    "# the DataSet object has the following methods:\n",
    "# get_train_set() -- returns a list of Sample objects that make up our training data\n",
    "# get_test_set() -- returns a list of Sample objects that make up our testing data\n",
    "#\n",
    "# What fraction of data is set as training? test? what is the benefit of choosing a \n",
    "# larger training set compared to test set? \n",
    "#\n",
    "# Now let's load a dataset and explore it! \n",
    "microarray_file_name = '../data/leukemia_ALL_AML_matrix.txt'\n",
    "labels_file_name = '../data/leukemia_ALL_AML_labels.txt'\n",
    "data_store = DataSet(microarray_file_name, labels_file_name)"
   ]
  },
  {
   "cell_type": "code",
   "execution_count": 25,
   "metadata": {
    "collapsed": false
   },
   "outputs": [],
   "source": [
    "# TODO: check how many samples are there in the train set; how about the test set?\n",
    "\n",
    "# --- your code here ---"
   ]
  },
  {
   "cell_type": "code",
   "execution_count": 31,
   "metadata": {
    "collapsed": false
   },
   "outputs": [],
   "source": [
    "# Let's take a look at one of our samples. \n",
    "# We'll look in the training set (because that's good data ettiquette!) and select one Sample to take a look at.\n",
    "#\n",
    "# the Sample object has the following methods:\n",
    "#\n",
    "# get_label() -- returns an integer representing the class label (i.e tissue type) of this sample\n",
    "# get_gene_profile() -- returns a list of numbers that represent the gene expression profile\n",
    "\n",
    "# TODO: access a sample object; what is it's label? how long is its gene expression profile? \n",
    "# what is the expression value of the first gene in the profile?  \n",
    "\n",
    "# --- your code here ---\n",
    "\n",
    "\n",
    "# TODO: how many different labels do we have in the train set? how about the test set? \n",
    "# how many samples have each of the labels?\n",
    "# can you figure out what label value corresponds to what tissue type?\n",
    "\n",
    "# --- your code here ---\n"
   ]
  }
 ],
 "metadata": {
  "kernelspec": {
   "display_name": "Python 2",
   "language": "python",
   "name": "python2"
  },
  "language_info": {
   "codemirror_mode": {
    "name": "ipython",
    "version": 2
   },
   "file_extension": ".py",
   "mimetype": "text/x-python",
   "name": "python",
   "nbconvert_exporter": "python",
   "pygments_lexer": "ipython2",
   "version": "2.7.10"
  }
 },
 "nbformat": 4,
 "nbformat_minor": 0
}
