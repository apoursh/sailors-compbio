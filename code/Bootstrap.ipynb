{
 "cells": [
  {
   "cell_type": "code",
   "execution_count": 3,
   "metadata": {
    "collapsed": false
   },
   "outputs": [
    {
     "name": "stdout",
     "output_type": "stream",
     "text": [
      "The autoreload extension is already loaded. To reload it, use:\n",
      "  %reload_ext autoreload\n"
     ]
    }
   ],
   "source": [
    "# magic! (don't worry about this)\n",
    "%load_ext autoreload\n",
    "%autoreload 2\n",
    "\n",
    "# let us import some useful things\n",
    "from lib import *\n",
    "from classifiers import *\n",
    "import matplotlib.pyplot as plt\n",
    "import numpy as np"
   ]
  },
  {
   "cell_type": "code",
   "execution_count": 4,
   "metadata": {
    "collapsed": false
   },
   "outputs": [],
   "source": [
    "microarray_file_name = '../data/leukemia_ALL_AML_matrix.txt'\n",
    "labels_file_name = '../data/leukemia_ALL_AML_labels.txt'\n",
    "data_store = DataSet(microarray_file_name, labels_file_name)\n",
    "\n",
    "# we will use all our samples!\n",
    "full_data_set = np.array(data_store.get_train_set() + data_store.get_test_set())"
   ]
  },
  {
   "cell_type": "code",
   "execution_count": 16,
   "metadata": {
    "collapsed": false
   },
   "outputs": [
    {
     "name": "stdout",
     "output_type": "stream",
     "text": [
      "[ 18128.  36417.  19266.  14989.  20288.  20958.  11631.  14760.  15689.\n",
      "  25147.  22818.  16692.  34207.  19679.  23865.  17996.  49084.  45492.\n",
      "  14030.  45815.  43084.  17878.  16738.  23508.  21229.  18343.  11983.\n",
      "  22143.  25880.  15763.  41570.  19406.  38690.  11195.  31022.  36915.\n",
      "  20658.  27087.  39323.  15272.  49419.  28991.  24327.  29906.  39538.\n",
      "  24611.   6479.  18167.  20225.  27924.  16716.  19457.  31068.  29189.\n",
      "  18595.  19324.  41275.  12801.  15091.  42401.  25673.  58203.  11038.\n",
      "  30801.  23462.  21777.  17359.  26052.  23505.  17499.  37749.  21801.]\n"
     ]
    },
    {
     "data": {
      "image/png": "[encoded data removed]",
      "text/plain": [
       "<matplotlib.figure.Figure at 0x10c5b2710>"
      ]
     },
     "metadata": {},
     "output_type": "display_data"
    }
   ],
   "source": [
    "gene1 = np.array([i.get_gene_profile()[1] for i in full_data_set])\n",
    "print gene1\n",
    "%matplotlib inline\n",
    "n, bins, patches = plt.hist(gene1, 20, facecolor='blue', alpha=0.75)\n",
    "plt.show()"
   ]
  },
  {
   "cell_type": "code",
   "execution_count": 17,
   "metadata": {
    "collapsed": true
   },
   "outputs": [],
   "source": [
    "def bootstrap(data):\n",
    "    N = len(data)\n",
    "    sample = np.random.choice(N, N)\n",
    "    return data[sample]"
   ]
  },
  {
   "cell_type": "code",
   "execution_count": 20,
   "metadata": {
    "collapsed": false
   },
   "outputs": [
    {
     "data": {
      "image/png": "[encoded data removed]",
      "text/plain": [
       "<matplotlib.figure.Figure at 0x10c670890>"
      ]
     },
     "metadata": {},
     "output_type": "display_data"
    }
   ],
   "source": [
    "boot_gene1 = bootstrap(gene1)\n",
    "n, bins, patches = plt.hist(boot_gene1, 20, facecolor='blue', alpha=0.75)\n",
    "plt.show()"
   ]
  },
  {
   "cell_type": "code",
   "execution_count": 33,
   "metadata": {
    "collapsed": false
   },
   "outputs": [
    {
     "data": {
      "image/png": "[encoded data removed]",
      "text/plain": [
       "<matplotlib.figure.Figure at 0x10ce70fd0>"
      ]
     },
     "metadata": {},
     "output_type": "display_data"
    }
   ],
   "source": [
    "d1 = np.random.normal(0,2,500)\n",
    "d2 = np.random.normal(10,2,500)\n",
    "data_set2 = np.append(d1,d2)\n",
    "plt.hist(data_set2,20)\n",
    "plt.show()"
   ]
  },
  {
   "cell_type": "code",
   "execution_count": 42,
   "metadata": {
    "collapsed": false
   },
   "outputs": [
    {
     "data": {
      "image/png": "[encoded data removed]",
      "text/plain": [
       "<matplotlib.figure.Figure at 0x10d348490>"
      ]
     },
     "metadata": {},
     "output_type": "display_data"
    }
   ],
   "source": [
    "boot_data_set2 = bootstrap(data_set2)\n",
    "plt.hist(data_set2,20, facecolor=\"green\", alpha = .6)\n",
    "plt.hist(boot_data_set2,20, facecolor=\"blue\", alpha=.3)\n",
    "plt.show()"
   ]
  }
 ],
 "metadata": {
  "kernelspec": {
   "display_name": "Python 2",
   "language": "python",
   "name": "python2"
  },
  "language_info": {
   "codemirror_mode": {
    "name": "ipython",
    "version": 2
   },
   "file_extension": ".py",
   "mimetype": "text/x-python",
   "name": "python",
   "nbconvert_exporter": "python",
   "pygments_lexer": "ipython2",
   "version": "2.7.10"
  }
 },
 "nbformat": 4,
 "nbformat_minor": 0
}
